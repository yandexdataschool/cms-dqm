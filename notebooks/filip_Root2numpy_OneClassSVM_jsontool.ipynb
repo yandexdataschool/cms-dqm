{
 "cells": [
  {
   "cell_type": "markdown",
   "metadata": {},
   "source": [
    "# Imports"
   ]
  },
  {
   "cell_type": "code",
   "execution_count": 1,
   "metadata": {
    "collapsed": false
   },
   "outputs": [
    {
     "name": "stdout",
     "output_type": "stream",
     "text": [
      "CPU times: user 1.14 s, sys: 267 ms, total: 1.4 s\n",
      "Wall time: 2.14 s\n"
     ]
    },
    {
     "name": "stderr",
     "output_type": "stream",
     "text": [
      "/Users/fsiroky/anaconda3/lib/python3.6/site-packages/sklearn/cross_validation.py:44: DeprecationWarning: This module was deprecated in version 0.18 in favor of the model_selection module into which all the refactored classes and functions are moved. Also note that the interface of the new CV iterators are different from that of this module. This module will be removed in 0.20.\n",
      "  \"This module will be removed in 0.20.\", DeprecationWarning)\n",
      "/Users/fsiroky/anaconda3/lib/python3.6/site-packages/matplotlib/__init__.py:1401: UserWarning:  This call to matplotlib.use() has no effect\n",
      "because the backend has already been chosen;\n",
      "matplotlib.use() must be called *before* pylab, matplotlib.pyplot,\n",
      "or matplotlib.backends is imported for the first time.\n",
      "\n",
      "  warnings.warn(_use_error_msg)\n"
     ]
    }
   ],
   "source": [
    "%%time\n",
    "#Imports requisite packages\n",
    "import os\n",
    "import time\n",
    "import numpy\n",
    "import pickle\n",
    "import cProfile\n",
    "import itertools\n",
    "import matplotlib\n",
    "from sklearn.svm import *\n",
    "from sklearn.metrics import *\n",
    "from sklearn.preprocessing import *\n",
    "from matplotlib import pyplot as plt\n",
    "from sklearn.cross_validation import *\n",
    "from sklearn.feature_selection import *\n",
    "\n",
    "#%jsroot on9\n",
    "%matplotlib inline\n",
    "matplotlib.use('Agg')"
   ]
  },
  {
   "cell_type": "markdown",
   "metadata": {},
   "source": [
    "# Root to Numpy arrays and pickling"
   ]
  },
  {
   "cell_type": "code",
   "execution_count": null,
   "metadata": {
    "collapsed": true
   },
   "outputs": [],
   "source": [
    "#Converts ROOT tree to numpy array\n",
    "\n",
    "# %%time\n",
    "# tChain = rt.TChain('MyAnalysis/MyTree')\n",
    "# tChain.Add(\"ntuples/*.root\")\n",
    "# array = root_numpy.tree2array(tChain)\n",
    "# print 'Total number of entries: ',tChain.GetEntries()\n",
    "\n",
    "#Saves dataset for pickling\n",
    "# dataset, target = outputs(array)\n",
    "# outFile = open('dataWithMet.pkl', 'wb')\n",
    "# pickle.dump(dataset, outFile)\n",
    "# pickle.dump(target, outFile)\n",
    "# outFile.close()\n",
    "\n",
    "#Loads pickled dataset\n",
    "#inFile = open('dataWithMet.pkl', 'rb')\n",
    "#dataset = pickle.load(inFile, encoding=\"latin1\")\n",
    "#target = pickle.load(inFile, encoding=\"latin1\")\n",
    "#inFile.close()"
   ]
  },
  {
   "cell_type": "markdown",
   "metadata": {},
   "source": [
    "# Function Definitions"
   ]
  },
  {
   "cell_type": "code",
   "execution_count": 2,
   "metadata": {
    "collapsed": false
   },
   "outputs": [
    {
     "name": "stdout",
     "output_type": "stream",
     "text": [
      "CPU times: user 4 µs, sys: 0 ns, total: 4 µs\n",
      "Wall time: 8.34 µs\n"
     ]
    }
   ],
   "source": [
    "%%time\n",
    "#Takes the converted tree and turns it into an\n",
    "#array usable by sklearn.\n",
    "def outputs(array):\n",
    "    #Only uses events with non-zero luminosity\n",
    "    goodEvents = array[array['lumi'] != 0]\n",
    "    ind = numpy.lexsort((goodEvents['lumiId'],goodEvents['runId']))\n",
    "    events = goodEvents[ind]\n",
    "    dataset = numpy.empty([len(goodEvents),30])\n",
    "    target = numpy.empty([len(goodEvents)])\n",
    "    badOnes = numpy.array([])\n",
    "\n",
    "    #Fills dataset array with proper features\n",
    "    for j, event in enumerate(events):\n",
    "        try:\n",
    "            dataset[j,0:7] = event['qPFJetPt']\n",
    "            dataset[j,7:14] = event['qPFJetEta']\n",
    "            dataset[j,14:21] = event['qPFJetPhi']\n",
    "            dataset[j,21:28] = event[\"qMetPt\"]\n",
    "            dataset[j,28:35] = event[\"qMetPhi\"]\n",
    "            dataset[j,35:42] = event['qNVtx']\n",
    "            dataset[j,42] = event['crossSection']\n",
    "            dataset[j,43] = event['lumi']\n",
    "            target[j] = event['isSig']\n",
    "        except ValueError:\n",
    "            badOnes = numpy.append(badOnes,j)\n",
    "            \n",
    "    #Takes out corrupt events\n",
    "    mask = numpy.zeros(len(dataset), dtype=bool)\n",
    "    mask[badOnes.astype(int)] = True\n",
    "    mask = ~mask\n",
    "    dataset = dataset[mask]\n",
    "    target = target[mask]\n",
    "       \n",
    "    return dataset, target"
   ]
  },
  {
   "cell_type": "code",
   "execution_count": 3,
   "metadata": {
    "collapsed": true
   },
   "outputs": [],
   "source": [
    "#Function that plots confusion matrix, taken from sklearn website\n",
    "def plot_confusion_matrix(cm, classes,\n",
    "                          normalize=False,\n",
    "                          title='Confusion matrix',\n",
    "                          cmap=plt.cm.Blues):\n",
    "\n",
    "    #This function prints and plots the confusion matrix.\n",
    "    #Normalization can be applied by setting `normalize=True`.     \n",
    "    if normalize:\n",
    "        cm = cm.astype('float') / cm.sum(axis=1)[:, numpy.newaxis]\n",
    "        plt.imshow(cm, interpolation='nearest', cmap=cmap)\n",
    "        plt.title(title)\n",
    "        plt.colorbar()\n",
    "        tick_marks = numpy.arange(len(classes))\n",
    "        plt.xticks(tick_marks, classes, rotation=45)\n",
    "        plt.yticks(tick_marks, classes)\n",
    "        print(\"Normalized confusion matrix\")\n",
    "    else:\n",
    "        plt.imshow(cm, interpolation='nearest', cmap=cmap)\n",
    "        plt.title(title)\n",
    "        plt.colorbar()\n",
    "        tick_marks = numpy.arange(len(classes))\n",
    "        plt.xticks(tick_marks, classes, rotation=45)\n",
    "        plt.yticks(tick_marks, classes)\n",
    "        print('Confusion matrix, without normalization')\n",
    "\n",
    "    print(cm)\n",
    "    \n",
    "    thresh = cm.max()*.7\n",
    "    for i, j in itertools.product(range(cm.shape[0]), range(cm.shape[1])):\n",
    "        plt.text(j, i, cm[i, j],\n",
    "                 horizontalalignment=\"center\",\n",
    "                 color=\"white\" if cm[i, j] > thresh else \"black\")\n",
    "\n",
    "    plt.tight_layout()\n",
    "    plt.ylabel('True label')\n",
    "    plt.xlabel('Predicted label')"
   ]
  },
  {
   "cell_type": "markdown",
   "metadata": {},
   "source": [
    "# Data Prep"
   ]
  },
  {
   "cell_type": "code",
   "execution_count": 4,
   "metadata": {
    "collapsed": false
   },
   "outputs": [],
   "source": [
    "#Loads pickled dataset with MET data\n",
    "inFile  = open('dataWithMet.pkl', 'rb')\n",
    "dataset = pickle.load(inFile, encoding = \"latin1\")\n",
    "target  = pickle.load(inFile, encoding = \"latin1\")\n",
    "inFile.close()\n",
    "\n",
    "#Loads pickled label data\n",
    "inFile = open('jetMetTarget.pkl', 'rb')\n",
    "target = pickle.load(inFile, encoding = \"latin1\")\n",
    "inFile.close()\n",
    "\n",
    "#Loads pickled runIDs and lumiIDs\n",
    "inFile = open('ids.pkl', 'rb')\n",
    "ids    = pickle.load(inFile, encoding = \"latin1\")\n",
    "origIds = ids\n",
    "inFile.close()\n",
    "\n",
    "dataset = numpy.append(dataset, ids,axis=1)"
   ]
  },
  {
   "cell_type": "code",
   "execution_count": 5,
   "metadata": {
    "collapsed": false
   },
   "outputs": [],
   "source": [
    "sigInd     = numpy.where(target==1)\n",
    "backInd    = numpy.where(target==0)\n",
    "sigVals    = dataset[sigInd]\n",
    "backVals   = dataset[backInd]\n",
    "sigTarget  = target[sigInd]\n",
    "backTarget = target[backInd]\n",
    "\n",
    "sigTrain, sigTest, sigTrainTarget, sigTestTarget = train_test_split(sigVals, sigTarget, test_size = .5, random_state = 42)\n",
    "sigTrainIds = sigTrain[:,-2:]\n",
    "sigTestIds  = sigTest[:,-2:]\n",
    "backValsIds = backVals[:,-2:]\n",
    "sigTrain    = sigTrain[:,:-2]\n",
    "sigTest     = sigTest[:,:-2]\n",
    "backVals    = backVals[:,:-2]"
   ]
  },
  {
   "cell_type": "code",
   "execution_count": 6,
   "metadata": {
    "collapsed": false
   },
   "outputs": [],
   "source": [
    "#Scales the data to zero mean and unit variance\n",
    "#and changes labels from 0 to -1\n",
    "scaler = StandardScaler()  #RobustScaler works worse\n",
    "scaler.fit(sigTrain)\n",
    "\n",
    "sigTrain = scaler.transform(sigTrain)\n",
    "sigTest  = scaler.transform(sigTest)\n",
    "backVals = scaler.transform(backVals)\n",
    "\n",
    "backTarget[backTarget == 0] = -1"
   ]
  },
  {
   "cell_type": "markdown",
   "metadata": {},
   "source": [
    "# ML model and plotting"
   ]
  },
  {
   "cell_type": "code",
   "execution_count": 7,
   "metadata": {
    "collapsed": false
   },
   "outputs": [
    {
     "data": {
      "text/plain": [
       "OneClassSVM(cache_size=200, coef0=0.0, degree=3, gamma=0.06, kernel='rbf',\n",
       "      max_iter=-1, nu=0.05, random_state=None, shrinking=True, tol=0.001,\n",
       "      verbose=False)"
      ]
     },
     "execution_count": 7,
     "metadata": {},
     "output_type": "execute_result"
    }
   ],
   "source": [
    "#Runs the classifier with given nuVal and gammaVal\n",
    "#Some type of cross-validation must be added - Andrey said on meeting he knows some template to do this and compare\n",
    "#models in a nice and easy way\n",
    "nuVal    = 0.05\n",
    "gammaVal = 0.06\n",
    "osvmClf  = OneClassSVM(nu=nuVal, kernel = 'rbf', gamma = gammaVal)\n",
    "osvmClf.fit(sigTrain)"
   ]
  },
  {
   "cell_type": "code",
   "execution_count": 8,
   "metadata": {
    "collapsed": false
   },
   "outputs": [],
   "source": [
    "#Here if you need to pickle classifier\n",
    "# outFile = open(\"osvm_nu_%s_gamma_%s.pkl\" % (nuVal, gammaVal), 'wb')\n",
    "# pickle.dump(osvmClf, outFile)\n",
    "# outFile.close()"
   ]
  },
  {
   "cell_type": "code",
   "execution_count": 9,
   "metadata": {
    "collapsed": true
   },
   "outputs": [],
   "source": [
    "# Here if you need to import pickled classifier\n",
    "# inFile = open(\"osvm_nu_%s_gamma_%s.pkl\" % (nuVal, gammaVal), 'rb')\n",
    "# osvmClf = pickle.load(inFile, encoding = \"latin1\")\n",
    "# inFile.close()"
   ]
  },
  {
   "cell_type": "code",
   "execution_count": 10,
   "metadata": {
    "collapsed": false
   },
   "outputs": [],
   "source": [
    "#Runs predictions on classifier for later calculations\n",
    "y_pred_train = osvmClf.predict(sigTrain)\n",
    "y_pred_test = osvmClf.predict(sigTest)\n",
    "y_pred_outliers = osvmClf.predict(backVals)"
   ]
  },
  {
   "cell_type": "code",
   "execution_count": 11,
   "metadata": {
    "collapsed": true
   },
   "outputs": [],
   "source": [
    "#Finds numbers of false negatives/positives and true positives\n",
    "falseNegTrain = y_pred_train[y_pred_train == -1].size\n",
    "falseNegTest = y_pred_test[y_pred_test == -1].size\n",
    "falsePos = y_pred_outliers[y_pred_outliers == 1].size\n",
    "truePosTrain = y_pred_train[y_pred_train == 1].size\n",
    "truePosTest = y_pred_test[y_pred_test == 1].size"
   ]
  },
  {
   "cell_type": "code",
   "execution_count": 12,
   "metadata": {
    "collapsed": false
   },
   "outputs": [],
   "source": [
    "#Plots classification results for signal and background\n",
    "osvmArrs = []\n",
    "osvmHists = []\n",
    "\n",
    "#Separates decision function results into signal and background\n",
    "#along with training and testing\n",
    "osvmArrs.append(osvmClf.decision_function(sigTrain).ravel())\n",
    "osvmArrs.append(osvmClf.decision_function(sigTest).ravel())\n",
    "osvmArrs.append(osvmClf.decision_function(backVals).ravel())"
   ]
  },
  {
   "cell_type": "code",
   "execution_count": 13,
   "metadata": {
    "collapsed": false,
    "scrolled": false
   },
   "outputs": [
    {
     "name": "stdout",
     "output_type": "stream",
     "text": [
      "Loss Rate                                           :  5.10517587501091\n",
      "Pollution Rate                                      :  0.7313599094245905\n",
      "Number of errors on training set :  5726  Percentage:  4.997817927904338\n",
      "Number of errors on test set     :  5849  Percentage:  5.10517587501091\n",
      "Number of errors on outliers set :  801   Percentage:  24.2874469375379\n"
     ]
    },
    {
     "data": {
      "image/png": "[encoded data removed]",
      "text/plain": [
       "<matplotlib.figure.Figure at 0x110941dd8>"
      ]
     },
     "metadata": {},
     "output_type": "display_data"
    }
   ],
   "source": [
    "#Sets up plot boundaries\n",
    "plotMin = min(min(osvmArrs[0]), min(osvmArrs[1]), min(osvmArrs[2]))\n",
    "plotMax = max(max(osvmArrs[0]), max(osvmArrs[1]), max(osvmArrs[2]))\n",
    "binz = numpy.linspace(plotMin, plotMax, 60)\n",
    "\n",
    "#Creates first histogram of Un-normalized Classification\n",
    "plt.figure(figsize=(7, 10))\n",
    "plt.subplot(211)\n",
    "plt.hist(osvmArrs[0], normed = False, bins = binz, edgecolor = 'red',   \n",
    "         facecolor = 'white', alpha=1, label = \"Signal Train\", linewidth = 1.5)\n",
    "plt.hist(osvmArrs[1], normed = False, bins = binz, edgecolor = 'green', \n",
    "         facecolor = 'white', alpha=1, label = \"Signal Test\")\n",
    "plt.hist(osvmArrs[2], normed = False, bins = binz, edgecolor = 'blue',  \n",
    "         facecolor = 'white', alpha=.5, label = \"Background\")\n",
    "plt.title(\"Classification Plot, OneClassSVM, Un-normalized, Nu = %s, Gamma = %s\" % (nuVal,gammaVal))\n",
    "plt.xlabel(\"Decision Function Score\")\n",
    "plt.ylabel(\"Counts per Bin\")\n",
    "plt.legend(loc = \"upper left\")\n",
    "\n",
    "#Creates second histogram of Normalized Classification\n",
    "plt.subplot(212)\n",
    "plt.hist(osvmArrs[0], normed = True, bins = binz, edgecolor = 'red',   \n",
    "         facecolor = 'white', alpha=1, label = \"Signal Train\", linewidth = 1.5)\n",
    "plt.hist(osvmArrs[1], normed = True, bins = binz, edgecolor = 'green', \n",
    "         facecolor = 'white', alpha=1, label = \"Signal Test\")\n",
    "plt.hist(osvmArrs[2], normed = True, bins = binz, edgecolor = 'blue',  \n",
    "         facecolor = 'white', alpha=.5, label = \"Background\")\n",
    "plt.title(\"Classification Plot, OneClassSVM, Normalized, Nu = %s, Gamma = %s\" % (nuVal,gammaVal))\n",
    "plt.xlabel(\"Decision Function Score\")\n",
    "plt.ylabel(\"Counts per Bin\")\n",
    "plt.legend()\n",
    "\n",
    "#Prints relevant statistics below\n",
    "print(\"Loss Rate                                           : \", (falseNegTest/(truePosTest+falseNegTest)*100))\n",
    "print(\"Pollution Rate                                      : \", (falsePos/(truePosTest+falsePos))*100)\n",
    "print(\"Number of errors on training set : \", falseNegTrain, \" Percentage: \", (falseNegTrain/len(sigTrain)*100))\n",
    "print(\"Number of errors on test set     : \", falseNegTest, \" Percentage: \", (falseNegTest/len(sigTest)*100))\n",
    "print(\"Number of errors on outliers set : \", falsePos, \"  Percentage: \", (falsePos/len(backVals)*100))"
   ]
  },
  {
   "cell_type": "code",
   "execution_count": 14,
   "metadata": {
    "collapsed": false
   },
   "outputs": [
    {
     "data": {
      "image/png": "[encoded data removed]",
      "text/plain": [
       "<matplotlib.figure.Figure at 0x11092dc18>"
      ]
     },
     "metadata": {},
     "output_type": "display_data"
    }
   ],
   "source": [
    "#Creates ROC curve\n",
    "yTest = numpy.append(sigTestTarget, backTarget)\n",
    "osvmScore = numpy.append(osvmArrs[1], osvmArrs[2])\n",
    "fpr, tpr, _ = roc_curve(yTest, osvmScore)\n",
    "roc_auc = auc(fpr, tpr)\n",
    "\n",
    "plt.figure()\n",
    "lw = 2;\n",
    "plt.plot(fpr, tpr, color='darkorange',\n",
    "        lw = lw, label='ROC curve (area = %0.2f)' % roc_auc)\n",
    "plt.plot([0, 1], [0, 1], color='navy', lw = lw, linestyle='--')\n",
    "plt.xlim([0.0, 1.0])\n",
    "plt.ylim([0.0, 1.05])\n",
    "plt.xlabel('False Positive Rate')\n",
    "plt.ylabel('True Positive Rate')\n",
    "plt.title('ROC OSVM, Tuned, Nu = %s, Gamma = %s' % (nuVal,gammaVal))\n",
    "plt.legend(loc=\"lower right\")\n",
    "plt.show()"
   ]
  },
  {
   "cell_type": "markdown",
   "metadata": {
    "collapsed": true
   },
   "source": [
    "# JSON tool for examining very badly classified lumisections"
   ]
  },
  {
   "cell_type": "code",
   "execution_count": 19,
   "metadata": {
    "collapsed": false
   },
   "outputs": [],
   "source": [
    "decFuncs = numpy.concatenate([osvmArrs[0], osvmArrs[1], osvmArrs[2]])\n",
    "ids      = numpy.concatenate([sigTrainIds, sigTestIds, backValsIds])\n",
    "\n",
    "\n",
    "sortIndices   = numpy.lexsort((ids[:,1], ids[:,0]))\n",
    "ids           = ids[sortIndices]\n",
    "decFuncs      = decFuncs[sortIndices]\n",
    "\n",
    "#by changing these two values we can examine badly classified lumisections starting from chosen decision function value\n",
    "DecFuncPosBoundary = 25 \n",
    "DecFuncNegBoundary = -25\n",
    "extremeFalsePos = [i for i,j in enumerate(decFuncs) if j >  DecFuncPosBoundary and target[i] ==  0]\n",
    "extremeFalseNeg = [i for i,j in enumerate(decFuncs) if j <  DecFuncNegBoundary and target[i] ==  1]\n",
    "\n",
    "#efp = background events that are very wrongly misclassified as signal events\n",
    "efp = ids[extremeFalsePos]\n",
    "efp = [[int(float(j)) for j in i] for i in efp] #make integers from float\n",
    "\n",
    "#efn = sig events that are very wrongly classified as background events\n",
    "efn = ids[extremeFalseNeg]\n",
    "efn = [[int(float(j)) for j in i] for i in efn] #make integers from float"
   ]
  },
  {
   "cell_type": "code",
   "execution_count": 20,
   "metadata": {
    "collapsed": false
   },
   "outputs": [
    {
     "name": "stdout",
     "output_type": "stream",
     "text": [
      "{273426: [[1, 4], [7, 7], [10, 14], [16, 17], [19, 19], [21, 22], [25, 25]],\n",
      " 274157: [[108, 112],\n",
      "          [114, 117],\n",
      "          [120, 120],\n",
      "          [122, 123],\n",
      "          [126, 130],\n",
      "          [132, 136],\n",
      "          [139, 139],\n",
      "          [145, 146],\n",
      "          [148, 149],\n",
      "          [152, 152],\n",
      "          [154, 156],\n",
      "          [159, 164],\n",
      "          [166, 167],\n",
      "          [214, 214],\n",
      "          [216, 216],\n",
      "          [403, 403]],\n",
      " 274959: [[64, 64],\n",
      "          [100, 100],\n",
      "          [190, 190],\n",
      "          [212, 212],\n",
      "          [232, 232],\n",
      "          [272, 272],\n",
      "          [281, 281]],\n",
      " 275758: [[3, 4]],\n",
      " 275922: [[4, 5]],\n",
      " 276453: [[44, 44],\n",
      "          [47, 47],\n",
      "          [49, 49],\n",
      "          [51, 51],\n",
      "          [54, 55],\n",
      "          [57, 57],\n",
      "          [60, 60],\n",
      "          [63, 63],\n",
      "          [65, 66],\n",
      "          [73, 73],\n",
      "          [75, 76],\n",
      "          [78, 80],\n",
      "          [84, 84],\n",
      "          [88, 88],\n",
      "          [90, 91],\n",
      "          [93, 93],\n",
      "          [99, 99],\n",
      "          [108, 109],\n",
      "          [118, 119],\n",
      "          [121, 123],\n",
      "          [125, 125]],\n",
      " 278309: [[1, 1]],\n",
      " 282663: [[127, 127]]}\n"
     ]
    }
   ],
   "source": [
    "from itertools import groupby\n",
    "from collections import defaultdict\n",
    "from operator import itemgetter\n",
    "\n",
    "\n",
    "#MAKE JSON-LIKE DICTIONARY\n",
    "#Have a list of bad lumisections and create a list of list\n",
    "\n",
    "def make_compact(my_list):\n",
    "    ranges=[]\n",
    "    for k, g in groupby(enumerate(my_list), lambda x:x[0]-x[1]):\n",
    "        group = list(map(itemgetter(1), g))\n",
    "        ranges.append([group[0], group[-1]])\n",
    "    return ranges\n",
    "\n",
    "def make_dictionary(list):\n",
    "    d={}\n",
    "    for key, val in list: #creates a dictionary and listing all the values\n",
    "        d.setdefault(key, []).append(val)\n",
    "    d2 = {}\n",
    "    for k, v in d.items(): #take values and make them compact\n",
    "        d2[k] = make_compact(v)\n",
    "    return d2\n",
    "\n",
    "json_dictionary1 = make_dictionary(efp)\n",
    "json_dictionary2 = make_dictionary(efn)\n",
    "\n",
    "import pprint\n",
    "# pprint.pprint((make_dictionary(efp)))\n",
    "pprint.pprint((json_dictionary1))"
   ]
  },
  {
   "cell_type": "code",
   "execution_count": null,
   "metadata": {
    "collapsed": true
   },
   "outputs": [],
   "source": []
  },
  {
   "cell_type": "code",
   "execution_count": null,
   "metadata": {
    "collapsed": true
   },
   "outputs": [],
   "source": []
  }
 ],
 "metadata": {
  "anaconda-cloud": {},
  "kernelspec": {
   "display_name": "Python 3",
   "language": "python",
   "name": "python3"
  },
  "language_info": {
   "codemirror_mode": {
    "name": "ipython",
    "version": 3
   },
   "file_extension": ".py",
   "mimetype": "text/x-python",
   "name": "python",
   "nbconvert_exporter": "python",
   "pygments_lexer": "ipython3",
   "version": "3.6.0"
  }
 },
 "nbformat": 4,
 "nbformat_minor": 0
}
